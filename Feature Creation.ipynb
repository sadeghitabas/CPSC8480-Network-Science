{
 "cells": [
  {
   "cell_type": "markdown",
   "metadata": {},
   "source": [
    "## Import User Data\n",
    "The `users.pickle` file contains all the data scraped using the `TwitterScrape.ipynb`. In a nutshell, users is a list of attributes for a specific twitter account along with a classification as either a bot or not a bot. The attributes include features from the downloaded corpus (like if they're using a default profile image, or the url they are displaying in their bio) and also a list of their followers that is scraped from twitter in the `TwitterScrape.ipynb` notebook"
   ]
  },
  {
   "cell_type": "code",
   "execution_count": 1,
   "metadata": {},
   "outputs": [],
   "source": [
    "import pickle\n",
    "\n",
    "with open(\"./data/users510.pickle\", \"rb\") as f:\n",
    "    users = pickle.load(f)[:510]"
   ]
  },
  {
   "cell_type": "code",
   "execution_count": 3,
   "metadata": {},
   "outputs": [],
   "source": [
    "import datetime\n",
    "\n",
    "def parse_date(date_str):\n",
    "    if type(date_str) is datetime.datetime:\n",
    "        return date_str\n",
    "    try:\n",
    "        return datetime.datetime.strptime(str(date_str), \"%a %b %d %H:%M:%S %z %Y\")\n",
    "    except ValueError:\n",
    "#         print(date_str)\n",
    "        return None\n",
    "\n",
    "dates = []\n",
    "beginning_time = datetime.datetime(2009, 7, 2, 1, 9, 57, tzinfo=datetime.timezone.utc)\n",
    "for user in users:\n",
    "    user[\"age\"] = ((parse_date(user[\"created_at\"]) - beginning_time).days)\n",
    "    user['activity_statuses'] = user['statuses_count'] / user['age']\n",
    "    user['activity_friends'] = user[\"friends_count\"] / user[\"age\"]"
   ]
  },
  {
   "cell_type": "markdown",
   "metadata": {},
   "source": [
    "## Construct the graph\n",
    "Now we will construct the graph with each user as a node and an edge between two users if they follow at least one of the same accounts. This makes a denser graph than if we drew edges for each following relationship because of (in part) the small world effect that exists on twitter. We assume that two accounts are linked in some way if they follow the same accounts. In the future we might investigate assigining a weight to each of the edges based on how many accounts the users share in their following lists"
   ]
  },
  {
   "cell_type": "code",
   "execution_count": 4,
   "metadata": {},
   "outputs": [],
   "source": [
    "import networkx as nx\n",
    "\n",
    "G = nx.Graph()\n",
    "\n",
    "# Add all users in the list to the graph\n",
    "G.add_nodes_from([user[\"id\"] for user in users])"
   ]
  },
  {
   "cell_type": "code",
   "execution_count": 5,
   "metadata": {},
   "outputs": [
    {
     "name": "stdout",
     "output_type": "stream",
     "text": [
      "510 users in the graph\n",
      "35477 links between users in the graph\n"
     ]
    }
   ],
   "source": [
    "for user1 in users:\n",
    "    for user2 in users:\n",
    "        if user1 is user2:\n",
    "            continue\n",
    "        if len(list(set(user1[\"following\"]) & set(user2[\"following\"]))) > 0:\n",
    "            G.add_edges_from([(user1[\"id\"], user2[\"id\"])])\n",
    "\n",
    "print(f\"{len(G)} users in the graph\")\n",
    "print(f\"{len(G.edges)} links between users in the graph\")"
   ]
  },
  {
   "cell_type": "markdown",
   "metadata": {},
   "source": [
    "## Role Detection\n",
    "The next 3 cells are the most intensive in the whole notebook. These first set up the graph with the sequential id's that GraphRole needs to run the role extraction and then runs the actual role extraction. This returns a dictionary of node id's to roles assigned in the graph. "
   ]
  },
  {
   "cell_type": "code",
   "execution_count": 6,
   "metadata": {},
   "outputs": [],
   "source": [
    "id_set = list(set(G.nodes))\n",
    "\n",
    "for node in G:\n",
    "    G.nodes[node][\"seq_id\"] = id_set.index(node)"
   ]
  },
  {
   "cell_type": "code",
   "execution_count": 7,
   "metadata": {},
   "outputs": [],
   "source": [
    "from graphrole import RecursiveFeatureExtractor, RoleExtractor\n",
    "\n",
    "feature_extractor = RecursiveFeatureExtractor(G)\n",
    "features = feature_extractor.extract_features()"
   ]
  },
  {
   "cell_type": "code",
   "execution_count": 8,
   "metadata": {},
   "outputs": [
    {
     "name": "stderr",
     "output_type": "stream",
     "text": [
      "/home/adday/.local/lib/python3.8/site-packages/graphrole/roles/description_length.py:56: RuntimeWarning: divide by zero encountered in log\n",
      "  kl_div = np.sum(np.where(vec1 != 0, vec1 * np.log(vec1 / vec2) - vec1 + vec2, 0))\n",
      "/home/adday/.local/lib/python3.8/site-packages/graphrole/roles/description_length.py:56: RuntimeWarning: invalid value encountered in multiply\n",
      "  kl_div = np.sum(np.where(vec1 != 0, vec1 * np.log(vec1 / vec2) - vec1 + vec2, 0))\n",
      "/home/adday/.local/lib/python3.8/site-packages/graphrole/roles/description_length.py:56: RuntimeWarning: divide by zero encountered in log\n",
      "  kl_div = np.sum(np.where(vec1 != 0, vec1 * np.log(vec1 / vec2) - vec1 + vec2, 0))\n",
      "/home/adday/.local/lib/python3.8/site-packages/graphrole/roles/description_length.py:56: RuntimeWarning: invalid value encountered in multiply\n",
      "  kl_div = np.sum(np.where(vec1 != 0, vec1 * np.log(vec1 / vec2) - vec1 + vec2, 0))\n",
      "/home/adday/.local/lib/python3.8/site-packages/graphrole/roles/description_length.py:56: RuntimeWarning: divide by zero encountered in log\n",
      "  kl_div = np.sum(np.where(vec1 != 0, vec1 * np.log(vec1 / vec2) - vec1 + vec2, 0))\n",
      "/home/adday/.local/lib/python3.8/site-packages/graphrole/roles/description_length.py:56: RuntimeWarning: invalid value encountered in multiply\n",
      "  kl_div = np.sum(np.where(vec1 != 0, vec1 * np.log(vec1 / vec2) - vec1 + vec2, 0))\n",
      "/home/adday/.local/lib/python3.8/site-packages/graphrole/roles/description_length.py:56: RuntimeWarning: divide by zero encountered in log\n",
      "  kl_div = np.sum(np.where(vec1 != 0, vec1 * np.log(vec1 / vec2) - vec1 + vec2, 0))\n",
      "/home/adday/.local/lib/python3.8/site-packages/graphrole/roles/description_length.py:56: RuntimeWarning: invalid value encountered in multiply\n",
      "  kl_div = np.sum(np.where(vec1 != 0, vec1 * np.log(vec1 / vec2) - vec1 + vec2, 0))\n",
      "/home/adday/.local/lib/python3.8/site-packages/graphrole/roles/description_length.py:56: RuntimeWarning: divide by zero encountered in log\n",
      "  kl_div = np.sum(np.where(vec1 != 0, vec1 * np.log(vec1 / vec2) - vec1 + vec2, 0))\n",
      "/home/adday/.local/lib/python3.8/site-packages/graphrole/roles/description_length.py:56: RuntimeWarning: invalid value encountered in multiply\n",
      "  kl_div = np.sum(np.where(vec1 != 0, vec1 * np.log(vec1 / vec2) - vec1 + vec2, 0))\n",
      "/home/adday/.local/lib/python3.8/site-packages/graphrole/roles/description_length.py:56: RuntimeWarning: divide by zero encountered in log\n",
      "  kl_div = np.sum(np.where(vec1 != 0, vec1 * np.log(vec1 / vec2) - vec1 + vec2, 0))\n",
      "/home/adday/.local/lib/python3.8/site-packages/graphrole/roles/description_length.py:56: RuntimeWarning: invalid value encountered in multiply\n",
      "  kl_div = np.sum(np.where(vec1 != 0, vec1 * np.log(vec1 / vec2) - vec1 + vec2, 0))\n",
      "/home/adday/.local/lib/python3.8/site-packages/graphrole/roles/description_length.py:56: RuntimeWarning: divide by zero encountered in log\n",
      "  kl_div = np.sum(np.where(vec1 != 0, vec1 * np.log(vec1 / vec2) - vec1 + vec2, 0))\n",
      "/home/adday/.local/lib/python3.8/site-packages/graphrole/roles/description_length.py:56: RuntimeWarning: invalid value encountered in multiply\n",
      "  kl_div = np.sum(np.where(vec1 != 0, vec1 * np.log(vec1 / vec2) - vec1 + vec2, 0))\n",
      "/home/adday/.local/lib/python3.8/site-packages/graphrole/roles/description_length.py:56: RuntimeWarning: divide by zero encountered in log\n",
      "  kl_div = np.sum(np.where(vec1 != 0, vec1 * np.log(vec1 / vec2) - vec1 + vec2, 0))\n",
      "/home/adday/.local/lib/python3.8/site-packages/graphrole/roles/description_length.py:56: RuntimeWarning: invalid value encountered in multiply\n",
      "  kl_div = np.sum(np.where(vec1 != 0, vec1 * np.log(vec1 / vec2) - vec1 + vec2, 0))\n",
      "/home/adday/.local/lib/python3.8/site-packages/graphrole/roles/description_length.py:56: RuntimeWarning: divide by zero encountered in log\n",
      "  kl_div = np.sum(np.where(vec1 != 0, vec1 * np.log(vec1 / vec2) - vec1 + vec2, 0))\n",
      "/home/adday/.local/lib/python3.8/site-packages/graphrole/roles/description_length.py:56: RuntimeWarning: invalid value encountered in multiply\n",
      "  kl_div = np.sum(np.where(vec1 != 0, vec1 * np.log(vec1 / vec2) - vec1 + vec2, 0))\n",
      "/home/adday/.local/lib/python3.8/site-packages/graphrole/roles/description_length.py:56: RuntimeWarning: divide by zero encountered in log\n",
      "  kl_div = np.sum(np.where(vec1 != 0, vec1 * np.log(vec1 / vec2) - vec1 + vec2, 0))\n",
      "/home/adday/.local/lib/python3.8/site-packages/graphrole/roles/description_length.py:56: RuntimeWarning: invalid value encountered in multiply\n",
      "  kl_div = np.sum(np.where(vec1 != 0, vec1 * np.log(vec1 / vec2) - vec1 + vec2, 0))\n",
      "/home/adday/.local/lib/python3.8/site-packages/graphrole/roles/description_length.py:56: RuntimeWarning: divide by zero encountered in log\n",
      "  kl_div = np.sum(np.where(vec1 != 0, vec1 * np.log(vec1 / vec2) - vec1 + vec2, 0))\n",
      "/home/adday/.local/lib/python3.8/site-packages/graphrole/roles/description_length.py:56: RuntimeWarning: invalid value encountered in multiply\n",
      "  kl_div = np.sum(np.where(vec1 != 0, vec1 * np.log(vec1 / vec2) - vec1 + vec2, 0))\n",
      "/home/adday/.local/lib/python3.8/site-packages/graphrole/roles/description_length.py:56: RuntimeWarning: divide by zero encountered in log\n",
      "  kl_div = np.sum(np.where(vec1 != 0, vec1 * np.log(vec1 / vec2) - vec1 + vec2, 0))\n",
      "/home/adday/.local/lib/python3.8/site-packages/graphrole/roles/description_length.py:56: RuntimeWarning: invalid value encountered in multiply\n",
      "  kl_div = np.sum(np.where(vec1 != 0, vec1 * np.log(vec1 / vec2) - vec1 + vec2, 0))\n",
      "/home/adday/.local/lib/python3.8/site-packages/graphrole/roles/description_length.py:56: RuntimeWarning: divide by zero encountered in log\n",
      "  kl_div = np.sum(np.where(vec1 != 0, vec1 * np.log(vec1 / vec2) - vec1 + vec2, 0))\n",
      "/home/adday/.local/lib/python3.8/site-packages/graphrole/roles/description_length.py:56: RuntimeWarning: invalid value encountered in multiply\n",
      "  kl_div = np.sum(np.where(vec1 != 0, vec1 * np.log(vec1 / vec2) - vec1 + vec2, 0))\n",
      "/home/adday/.local/lib/python3.8/site-packages/graphrole/roles/description_length.py:56: RuntimeWarning: divide by zero encountered in log\n",
      "  kl_div = np.sum(np.where(vec1 != 0, vec1 * np.log(vec1 / vec2) - vec1 + vec2, 0))\n",
      "/home/adday/.local/lib/python3.8/site-packages/graphrole/roles/description_length.py:56: RuntimeWarning: invalid value encountered in multiply\n",
      "  kl_div = np.sum(np.where(vec1 != 0, vec1 * np.log(vec1 / vec2) - vec1 + vec2, 0))\n",
      "/home/adday/.local/lib/python3.8/site-packages/graphrole/roles/description_length.py:56: RuntimeWarning: divide by zero encountered in log\n",
      "  kl_div = np.sum(np.where(vec1 != 0, vec1 * np.log(vec1 / vec2) - vec1 + vec2, 0))\n",
      "/home/adday/.local/lib/python3.8/site-packages/graphrole/roles/description_length.py:56: RuntimeWarning: invalid value encountered in multiply\n",
      "  kl_div = np.sum(np.where(vec1 != 0, vec1 * np.log(vec1 / vec2) - vec1 + vec2, 0))\n",
      "/home/adday/.local/lib/python3.8/site-packages/graphrole/roles/description_length.py:56: RuntimeWarning: divide by zero encountered in log\n",
      "  kl_div = np.sum(np.where(vec1 != 0, vec1 * np.log(vec1 / vec2) - vec1 + vec2, 0))\n",
      "/home/adday/.local/lib/python3.8/site-packages/graphrole/roles/description_length.py:56: RuntimeWarning: invalid value encountered in multiply\n",
      "  kl_div = np.sum(np.where(vec1 != 0, vec1 * np.log(vec1 / vec2) - vec1 + vec2, 0))\n",
      "/home/adday/.local/lib/python3.8/site-packages/graphrole/roles/description_length.py:56: RuntimeWarning: divide by zero encountered in log\n",
      "  kl_div = np.sum(np.where(vec1 != 0, vec1 * np.log(vec1 / vec2) - vec1 + vec2, 0))\n",
      "/home/adday/.local/lib/python3.8/site-packages/graphrole/roles/description_length.py:56: RuntimeWarning: invalid value encountered in multiply\n",
      "  kl_div = np.sum(np.where(vec1 != 0, vec1 * np.log(vec1 / vec2) - vec1 + vec2, 0))\n",
      "/home/adday/.local/lib/python3.8/site-packages/graphrole/roles/description_length.py:56: RuntimeWarning: divide by zero encountered in log\n",
      "  kl_div = np.sum(np.where(vec1 != 0, vec1 * np.log(vec1 / vec2) - vec1 + vec2, 0))\n",
      "/home/adday/.local/lib/python3.8/site-packages/graphrole/roles/description_length.py:56: RuntimeWarning: invalid value encountered in multiply\n",
      "  kl_div = np.sum(np.where(vec1 != 0, vec1 * np.log(vec1 / vec2) - vec1 + vec2, 0))\n",
      "/home/adday/.local/lib/python3.8/site-packages/graphrole/roles/description_length.py:56: RuntimeWarning: divide by zero encountered in log\n",
      "  kl_div = np.sum(np.where(vec1 != 0, vec1 * np.log(vec1 / vec2) - vec1 + vec2, 0))\n",
      "/home/adday/.local/lib/python3.8/site-packages/graphrole/roles/description_length.py:56: RuntimeWarning: invalid value encountered in multiply\n",
      "  kl_div = np.sum(np.where(vec1 != 0, vec1 * np.log(vec1 / vec2) - vec1 + vec2, 0))\n",
      "/home/adday/.local/lib/python3.8/site-packages/graphrole/roles/description_length.py:56: RuntimeWarning: divide by zero encountered in log\n",
      "  kl_div = np.sum(np.where(vec1 != 0, vec1 * np.log(vec1 / vec2) - vec1 + vec2, 0))\n",
      "/home/adday/.local/lib/python3.8/site-packages/graphrole/roles/description_length.py:56: RuntimeWarning: invalid value encountered in multiply\n",
      "  kl_div = np.sum(np.where(vec1 != 0, vec1 * np.log(vec1 / vec2) - vec1 + vec2, 0))\n",
      "/home/adday/.local/lib/python3.8/site-packages/graphrole/roles/description_length.py:56: RuntimeWarning: divide by zero encountered in log\n",
      "  kl_div = np.sum(np.where(vec1 != 0, vec1 * np.log(vec1 / vec2) - vec1 + vec2, 0))\n",
      "/home/adday/.local/lib/python3.8/site-packages/graphrole/roles/description_length.py:56: RuntimeWarning: invalid value encountered in multiply\n",
      "  kl_div = np.sum(np.where(vec1 != 0, vec1 * np.log(vec1 / vec2) - vec1 + vec2, 0))\n",
      "/home/adday/.local/lib/python3.8/site-packages/graphrole/roles/description_length.py:56: RuntimeWarning: divide by zero encountered in log\n",
      "  kl_div = np.sum(np.where(vec1 != 0, vec1 * np.log(vec1 / vec2) - vec1 + vec2, 0))\n",
      "/home/adday/.local/lib/python3.8/site-packages/graphrole/roles/description_length.py:56: RuntimeWarning: invalid value encountered in multiply\n",
      "  kl_div = np.sum(np.where(vec1 != 0, vec1 * np.log(vec1 / vec2) - vec1 + vec2, 0))\n",
      "/home/adday/.local/lib/python3.8/site-packages/graphrole/roles/description_length.py:56: RuntimeWarning: divide by zero encountered in log\n",
      "  kl_div = np.sum(np.where(vec1 != 0, vec1 * np.log(vec1 / vec2) - vec1 + vec2, 0))\n",
      "/home/adday/.local/lib/python3.8/site-packages/graphrole/roles/description_length.py:56: RuntimeWarning: invalid value encountered in multiply\n",
      "  kl_div = np.sum(np.where(vec1 != 0, vec1 * np.log(vec1 / vec2) - vec1 + vec2, 0))\n",
      "/home/adday/.local/lib/python3.8/site-packages/graphrole/roles/description_length.py:56: RuntimeWarning: divide by zero encountered in log\n",
      "  kl_div = np.sum(np.where(vec1 != 0, vec1 * np.log(vec1 / vec2) - vec1 + vec2, 0))\n",
      "/home/adday/.local/lib/python3.8/site-packages/graphrole/roles/description_length.py:56: RuntimeWarning: invalid value encountered in multiply\n",
      "  kl_div = np.sum(np.where(vec1 != 0, vec1 * np.log(vec1 / vec2) - vec1 + vec2, 0))\n",
      "/home/adday/.local/lib/python3.8/site-packages/graphrole/roles/description_length.py:56: RuntimeWarning: divide by zero encountered in log\n",
      "  kl_div = np.sum(np.where(vec1 != 0, vec1 * np.log(vec1 / vec2) - vec1 + vec2, 0))\n",
      "/home/adday/.local/lib/python3.8/site-packages/graphrole/roles/description_length.py:56: RuntimeWarning: invalid value encountered in multiply\n",
      "  kl_div = np.sum(np.where(vec1 != 0, vec1 * np.log(vec1 / vec2) - vec1 + vec2, 0))\n",
      "/home/adday/.local/lib/python3.8/site-packages/graphrole/roles/description_length.py:56: RuntimeWarning: divide by zero encountered in log\n",
      "  kl_div = np.sum(np.where(vec1 != 0, vec1 * np.log(vec1 / vec2) - vec1 + vec2, 0))\n",
      "/home/adday/.local/lib/python3.8/site-packages/graphrole/roles/description_length.py:56: RuntimeWarning: invalid value encountered in multiply\n",
      "  kl_div = np.sum(np.where(vec1 != 0, vec1 * np.log(vec1 / vec2) - vec1 + vec2, 0))\n",
      "/home/adday/.local/lib/python3.8/site-packages/graphrole/roles/description_length.py:56: RuntimeWarning: divide by zero encountered in log\n",
      "  kl_div = np.sum(np.where(vec1 != 0, vec1 * np.log(vec1 / vec2) - vec1 + vec2, 0))\n",
      "/home/adday/.local/lib/python3.8/site-packages/graphrole/roles/description_length.py:56: RuntimeWarning: invalid value encountered in multiply\n",
      "  kl_div = np.sum(np.where(vec1 != 0, vec1 * np.log(vec1 / vec2) - vec1 + vec2, 0))\n",
      "/home/adday/.local/lib/python3.8/site-packages/graphrole/roles/description_length.py:56: RuntimeWarning: divide by zero encountered in log\n",
      "  kl_div = np.sum(np.where(vec1 != 0, vec1 * np.log(vec1 / vec2) - vec1 + vec2, 0))\n",
      "/home/adday/.local/lib/python3.8/site-packages/graphrole/roles/description_length.py:56: RuntimeWarning: invalid value encountered in multiply\n",
      "  kl_div = np.sum(np.where(vec1 != 0, vec1 * np.log(vec1 / vec2) - vec1 + vec2, 0))\n",
      "/home/adday/.local/lib/python3.8/site-packages/graphrole/roles/description_length.py:56: RuntimeWarning: divide by zero encountered in log\n",
      "  kl_div = np.sum(np.where(vec1 != 0, vec1 * np.log(vec1 / vec2) - vec1 + vec2, 0))\n",
      "/home/adday/.local/lib/python3.8/site-packages/graphrole/roles/description_length.py:56: RuntimeWarning: invalid value encountered in multiply\n",
      "  kl_div = np.sum(np.where(vec1 != 0, vec1 * np.log(vec1 / vec2) - vec1 + vec2, 0))\n",
      "/home/adday/.local/lib/python3.8/site-packages/graphrole/roles/description_length.py:56: RuntimeWarning: divide by zero encountered in log\n",
      "  kl_div = np.sum(np.where(vec1 != 0, vec1 * np.log(vec1 / vec2) - vec1 + vec2, 0))\n",
      "/home/adday/.local/lib/python3.8/site-packages/graphrole/roles/description_length.py:56: RuntimeWarning: invalid value encountered in multiply\n",
      "  kl_div = np.sum(np.where(vec1 != 0, vec1 * np.log(vec1 / vec2) - vec1 + vec2, 0))\n",
      "/home/adday/.local/lib/python3.8/site-packages/graphrole/roles/description_length.py:56: RuntimeWarning: divide by zero encountered in log\n",
      "  kl_div = np.sum(np.where(vec1 != 0, vec1 * np.log(vec1 / vec2) - vec1 + vec2, 0))\n",
      "/home/adday/.local/lib/python3.8/site-packages/graphrole/roles/description_length.py:56: RuntimeWarning: invalid value encountered in multiply\n",
      "  kl_div = np.sum(np.where(vec1 != 0, vec1 * np.log(vec1 / vec2) - vec1 + vec2, 0))\n",
      "/home/adday/.local/lib/python3.8/site-packages/graphrole/roles/description_length.py:56: RuntimeWarning: divide by zero encountered in log\n",
      "  kl_div = np.sum(np.where(vec1 != 0, vec1 * np.log(vec1 / vec2) - vec1 + vec2, 0))\n",
      "/home/adday/.local/lib/python3.8/site-packages/graphrole/roles/description_length.py:56: RuntimeWarning: invalid value encountered in multiply\n",
      "  kl_div = np.sum(np.where(vec1 != 0, vec1 * np.log(vec1 / vec2) - vec1 + vec2, 0))\n",
      "/home/adday/.local/lib/python3.8/site-packages/graphrole/roles/description_length.py:56: RuntimeWarning: divide by zero encountered in log\n",
      "  kl_div = np.sum(np.where(vec1 != 0, vec1 * np.log(vec1 / vec2) - vec1 + vec2, 0))\n",
      "/home/adday/.local/lib/python3.8/site-packages/graphrole/roles/description_length.py:56: RuntimeWarning: invalid value encountered in multiply\n",
      "  kl_div = np.sum(np.where(vec1 != 0, vec1 * np.log(vec1 / vec2) - vec1 + vec2, 0))\n",
      "/home/adday/.local/lib/python3.8/site-packages/graphrole/roles/description_length.py:56: RuntimeWarning: divide by zero encountered in log\n",
      "  kl_div = np.sum(np.where(vec1 != 0, vec1 * np.log(vec1 / vec2) - vec1 + vec2, 0))\n",
      "/home/adday/.local/lib/python3.8/site-packages/graphrole/roles/description_length.py:56: RuntimeWarning: invalid value encountered in multiply\n",
      "  kl_div = np.sum(np.where(vec1 != 0, vec1 * np.log(vec1 / vec2) - vec1 + vec2, 0))\n",
      "/home/adday/.local/lib/python3.8/site-packages/graphrole/roles/description_length.py:56: RuntimeWarning: divide by zero encountered in log\n",
      "  kl_div = np.sum(np.where(vec1 != 0, vec1 * np.log(vec1 / vec2) - vec1 + vec2, 0))\n",
      "/home/adday/.local/lib/python3.8/site-packages/graphrole/roles/description_length.py:56: RuntimeWarning: invalid value encountered in multiply\n",
      "  kl_div = np.sum(np.where(vec1 != 0, vec1 * np.log(vec1 / vec2) - vec1 + vec2, 0))\n",
      "/home/adday/.local/lib/python3.8/site-packages/graphrole/roles/description_length.py:56: RuntimeWarning: divide by zero encountered in log\n",
      "  kl_div = np.sum(np.where(vec1 != 0, vec1 * np.log(vec1 / vec2) - vec1 + vec2, 0))\n",
      "/home/adday/.local/lib/python3.8/site-packages/graphrole/roles/description_length.py:56: RuntimeWarning: invalid value encountered in multiply\n",
      "  kl_div = np.sum(np.where(vec1 != 0, vec1 * np.log(vec1 / vec2) - vec1 + vec2, 0))\n",
      "/home/adday/.local/lib/python3.8/site-packages/graphrole/roles/description_length.py:56: RuntimeWarning: divide by zero encountered in log\n",
      "  kl_div = np.sum(np.where(vec1 != 0, vec1 * np.log(vec1 / vec2) - vec1 + vec2, 0))\n",
      "/home/adday/.local/lib/python3.8/site-packages/graphrole/roles/description_length.py:56: RuntimeWarning: invalid value encountered in multiply\n",
      "  kl_div = np.sum(np.where(vec1 != 0, vec1 * np.log(vec1 / vec2) - vec1 + vec2, 0))\n"
     ]
    }
   ],
   "source": [
    "role_extractor = RoleExtractor()\n",
    "role_extractor.extract_role_factors(features)\n",
    "roles = role_extractor.roles"
   ]
  },
  {
   "cell_type": "markdown",
   "metadata": {},
   "source": [
    "## Centrality Metrics\n",
    "As well as the sophisticated role detection we also calculate the eigenvector and closeness centrality metrics for the graph. All the graph based features are then added to each user so that all features can be compiled into an input and an output for each classifier. There's also a save point here so we don't have to do the complex computation each time."
   ]
  },
  {
   "cell_type": "code",
   "execution_count": 9,
   "metadata": {},
   "outputs": [],
   "source": [
    "eigenvector = nx.algorithms.centrality.eigenvector_centrality(G)\n",
    "closeness = nx.algorithms.centrality.closeness_centrality(G)"
   ]
  },
  {
   "cell_type": "code",
   "execution_count": 11,
   "metadata": {},
   "outputs": [],
   "source": [
    "for user in users:\n",
    "    user[\"role\"] = int(roles[user[\"id\"]][5:])\n",
    "    user[\"eigenvector\"] = float(eigenvector[user[\"id\"]])\n",
    "    user[\"closeness\"] = float(closeness[user[\"id\"]])\n",
    "    \n",
    "with open(\"./data/user_filled.pickle\", \"wb\") as file:\n",
    "    pickle.dump(users, file)"
   ]
  }
 ],
 "metadata": {
  "kernelspec": {
   "display_name": "Python 3",
   "language": "python",
   "name": "python3"
  },
  "language_info": {
   "codemirror_mode": {
    "name": "ipython",
    "version": 3
   },
   "file_extension": ".py",
   "mimetype": "text/x-python",
   "name": "python",
   "nbconvert_exporter": "python",
   "pygments_lexer": "ipython3",
   "version": "3.8.6"
  }
 },
 "nbformat": 4,
 "nbformat_minor": 4
}
