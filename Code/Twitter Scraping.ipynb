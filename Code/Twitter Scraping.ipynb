{
 "cells": [
  {
   "cell_type": "code",
   "execution_count": 1,
   "metadata": {},
   "outputs": [],
   "source": [
    "import twitter\n",
    "import pandas as pd\n",
    "import json"
   ]
  },
  {
   "cell_type": "code",
   "execution_count": 3,
   "metadata": {},
   "outputs": [
    {
     "data": {
      "text/plain": [
       "528"
      ]
     },
     "execution_count": 3,
     "metadata": {},
     "output_type": "execute_result"
    }
   ],
   "source": [
    "# Import the classifications\n",
    "classifications = pd.read_csv(\"./data/class.tsv\", sep=\"\\t\", index_col=0, header=None, names=[\"id\", \"class\"])\n",
    "classifications.head()\n",
    "classes = classifications.to_dict()[\"class\"]\n",
    "len(classes)"
   ]
  },
  {
   "cell_type": "code",
   "execution_count": 5,
   "metadata": {},
   "outputs": [
    {
     "data": {
      "text/plain": [
       "518"
      ]
     },
     "execution_count": 5,
     "metadata": {},
     "output_type": "execute_result"
    }
   ],
   "source": [
    "# Import the user information\n",
    "users = json.load(open(\"./data/users.json\"))\n",
    "for i in range(len(users)):\n",
    "    users[i][\"user\"][\"created_at\"] = users[i][\"created_at\"]\n",
    "    users[i][\"user\"][\"class\"] = classes[users[i][\"user\"][\"id\"]]\n",
    "\n",
    "    users[i] = users[i][\"user\"]\n",
    "len(users)"
   ]
  },
  {
   "cell_type": "code",
   "execution_count": 6,
   "metadata": {},
   "outputs": [],
   "source": [
    "api = twitter.Twitter(auth=twitter.OAuth(\n",
    "        consumer_key='AQBxs5TkCB9P3GODewcSHwx8T',\n",
    "        consumer_secret='gM3VycGaTuIDTpYillf88YxiqWD1x3qJclJXT5EymjzXDn9Un4',\n",
    "        token='1174730045484670980-0dJVV9YIZMgP41SxaEnyY7xELeu7Dh',\n",
    "        token_secret='4GwB0E8AWs5hApZynn0X9KKfXlR1PI75iPumJAi49LwcQ'\n",
    "    ), retry=True)"
   ]
  },
  {
   "cell_type": "code",
   "execution_count": null,
   "metadata": {},
   "outputs": [
    {
     "name": "stderr",
     "output_type": "stream",
     "text": [
      "API rate limit reached; waiting for 730s...\n"
     ]
    },
    {
     "name": "stdout",
     "output_type": "stream",
     "text": [
      "EmmaDingle is private or suspended\n",
      "Wolv_2018 is private or suspended\n",
      "RobPalmWhistler\n",
      "Marianocrt\n",
      "herrlarbig\n",
      "bartvalou\n",
      "DadaistBot\n",
      "Fando_C\n",
      "Todd_Scheve is private or suspended\n",
      "edward_spratt\n",
      "brenton1218\n",
      "abadlinan\n",
      "cheomit is private or suspended\n",
      "anilmuppidi\n",
      "Lhorrell\n"
     ]
    },
    {
     "name": "stderr",
     "output_type": "stream",
     "text": [
      "API rate limit reached; waiting for 896s...\n"
     ]
    },
    {
     "name": "stdout",
     "output_type": "stream",
     "text": [
      "Teddysmom1\n",
      "KitZander66\n",
      "Scarmigliohnoes\n",
      "beatmaster80\n",
      "ShitpostBot5000\n",
      "SethNickerson\n",
      "sextsbot is private or suspended\n",
      "emilyratliffetc\n",
      "mallory_barnes\n",
      "WeRaBot\n",
      "SSReilley is private or suspended\n",
      "CT4444\n",
      "peterkblignaut is private or suspended\n",
      "Erato_Sangrante is private or suspended\n",
      "zmonroe0820 is private or suspended\n"
     ]
    },
    {
     "name": "stderr",
     "output_type": "stream",
     "text": [
      "API rate limit reached; waiting for 898s...\n"
     ]
    }
   ],
   "source": [
    "import pickle\n",
    "\n",
    "for i, user in enumerate(users):\n",
    "    try:\n",
    "        followers = api.friends.ids(screen_name=user[\"screen_name\"])[\"ids\"]\n",
    "        user[\"following\"] = followers\n",
    "        print(user[\"screen_name\"])\n",
    "    except:\n",
    "        print(user[\"screen_name\"] + \" is private or suspended\")\n",
    "        user[\"following\"] = []\n",
    "        \n",
    "    if i % 15 == 0:\n",
    "        with open(f'./data/users{str(i)}.pickle', 'wb') as filename:\n",
    "            pickle.dump(users, filename)"
   ]
  },
  {
   "cell_type": "code",
   "execution_count": null,
   "metadata": {},
   "outputs": [],
   "source": [
    "import pickle\n",
    "\n",
    "with open('./data/users.pickle', 'wb') as filename:\n",
    "    pickle.dump(users, filename)"
   ]
  }
 ],
 "metadata": {
  "kernelspec": {
   "display_name": "Python 3",
   "language": "python",
   "name": "python3"
  },
  "language_info": {
   "codemirror_mode": {
    "name": "ipython",
    "version": 3
   },
   "file_extension": ".py",
   "mimetype": "text/x-python",
   "name": "python",
   "nbconvert_exporter": "python",
   "pygments_lexer": "ipython3",
   "version": "3.8.6"
  }
 },
 "nbformat": 4,
 "nbformat_minor": 4
}
